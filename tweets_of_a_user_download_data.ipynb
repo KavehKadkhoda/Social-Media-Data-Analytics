{
  "nbformat": 4,
  "nbformat_minor": 0,
  "metadata": {
    "colab": {
      "name": "Download_tweets_from_user.ipynb",
      "provenance": [],
      "authorship_tag": "ABX9TyP32xtdrZ7Y8by6WKw+64Sg",
      "include_colab_link": true
    },
    "kernelspec": {
      "name": "python3",
      "display_name": "Python 3"
    },
    "language_info": {
      "name": "python"
    }
  },
  "cells": [
    {
      "cell_type": "markdown",
      "metadata": {
        "id": "view-in-github",
        "colab_type": "text"
      },
      "source": [
        "<a href=\"https://colab.research.google.com/github/KavehKadkhoda/Social-Media-Data-Analytics/blob/main/Download_tweets_from_user.ipynb\" target=\"_parent\"><img src=\"https://colab.research.google.com/assets/colab-badge.svg\" alt=\"Open In Colab\"/></a>"
      ]
    },
    {
      "cell_type": "code",
      "source": [
        "import tweepy # tweepy module to interact with Twitter\n",
        "import pandas as pd # Pandas library to create dataframes\n",
        "from tweepy import OAuthHandler # Used for authentication\n",
        "from tweepy import Cursor # Used to perform pagination"
      ],
      "metadata": {
        "id": "NrF73_aaon2b"
      },
      "execution_count": 10,
      "outputs": []
    },
    {
      "cell_type": "code",
      "source": [
        "\"\"\"\n",
        "Twitter Authentification Credentials\n",
        "Please update with your own credentials\n",
        "\"\"\"\n",
        "cons_key = ''\n",
        "cons_secret = ''\n",
        "acc_token = ''\n",
        "acc_secret = ''\n",
        "\n",
        "# (1). Athentication Function\n",
        "def get_twitter_auth():\n",
        "    \"\"\"\n",
        "    @return:\n",
        "        - the authentification to Twitter\n",
        "    \"\"\"\n",
        "    try:\n",
        "        consumer_key = cons_key\n",
        "        consumer_secret = cons_secret\n",
        "        access_token = acc_token\n",
        "        access_secret = acc_secret\n",
        "        \n",
        "    except KeyError:\n",
        "        sys.stderr.write(\"Twitter Environment Variable not Set\\n\")\n",
        "        sys.exit(1)\n",
        "        \n",
        "    auth = tweepy.OAuthHandler(consumer_key, consumer_secret)\n",
        "    auth.set_access_token(access_token, access_secret)\n",
        "    \n",
        "    return auth\n",
        "    \n",
        "# (2). Client function to access the authentication API\n",
        "def get_twitter_client():\n",
        "    \"\"\"\n",
        "    @return:\n",
        "        - the client to access the authentification API\n",
        "    \"\"\"\n",
        "    auth = get_twitter_auth()\n",
        "    client = tweepy.API(auth, wait_on_rate_limit=True)\n",
        "    return client\n",
        "\n",
        "# (3). Function creating final dataframe\n",
        "def get_tweets_from_user(twitter_user_name, page_limit=16, count_tweet=200):\n",
        "    \"\"\"\n",
        "    @params:\n",
        "        - twitter_user_name: the twitter username of a user (company, etc.)\n",
        "        - page_limit: the total number of pages (max=16)\n",
        "        - count_tweet: maximum number to be retrieved from a page\n",
        "        \n",
        "    @return\n",
        "        - all the tweets from the user twitter_user_name\n",
        "    \"\"\"\n",
        "    client = get_twitter_client()\n",
        "    \n",
        "    all_tweets = []\n",
        "    \n",
        "    for page in Cursor(client.user_timeline, \n",
        "                        screen_name=twitter_user_name, \n",
        "                        count=count_tweet).pages(page_limit):\n",
        "        for tweet in page:\n",
        "            parsed_tweet = {}\n",
        "            parsed_tweet['date'] = tweet.created_at\n",
        "            parsed_tweet['author'] = tweet.user.name\n",
        "            parsed_tweet['twitter_name'] = tweet.user.screen_name\n",
        "            parsed_tweet['text'] = tweet.text\n",
        "            parsed_tweet['number_of_likes'] = tweet.favorite_count\n",
        "            parsed_tweet['number_of_retweets'] = tweet.retweet_count\n",
        "                \n",
        "            all_tweets.append(parsed_tweet)\n",
        "    \n",
        "    # Create dataframe \n",
        "    df = pd.DataFrame(all_tweets)\n",
        "    \n",
        "    # Revome duplicates if there are any\n",
        "    df = df.drop_duplicates( \"text\" , keep='first')\n",
        "    \n",
        "    df.to_csv('kk.csv')\n",
        "\n",
        "    return df"
      ],
      "metadata": {
        "id": "O43MZSdgooLF"
      },
      "execution_count": 11,
      "outputs": []
    },
    {
      "cell_type": "code",
      "source": [
        "a_user_data = get_tweets_from_user(twitter_user_name)\n",
        "a_user_data"
      ],
      "metadata": {
        "id": "sG66guVQDhKA"
      },
      "execution_count": null,
      "outputs": []
    }
  ]
}
