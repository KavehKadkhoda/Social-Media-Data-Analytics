{
  "nbformat": 4,
  "nbformat_minor": 0,
  "metadata": {
    "colab": {
      "name": "Extract Data from YouTube.ipynb",
      "provenance": [],
      "authorship_tag": "ABX9TyO4ivry5uqay1CRzlJMChCy",
      "include_colab_link": true
    },
    "kernelspec": {
      "name": "python3",
      "display_name": "Python 3"
    },
    "language_info": {
      "name": "python"
    }
  },
  "cells": [
    {
      "cell_type": "markdown",
      "metadata": {
        "id": "view-in-github",
        "colab_type": "text"
      },
      "source": [
        "<a href=\"https://colab.research.google.com/github/KavehKadkhoda/Social-Media-Data-Analytics/blob/main/Extract_Data_from_YouTube.ipynb\" target=\"_parent\"><img src=\"https://colab.research.google.com/assets/colab-badge.svg\" alt=\"Open In Colab\"/></a>"
      ]
    },
    {
      "cell_type": "code",
      "execution_count": 1,
      "metadata": {
        "id": "fDrYbr8zqNHE"
      },
      "outputs": [],
      "source": [
        "# What We Will Need \n",
        "# • Google API’s Python client package and unidecode package \n",
        "# • Authentication information for Google APIs\n",
        "\n",
        "# Install Package\n",
        "# • We use a python package provided for Google API-Related product/service development.\n",
        "#  pip install google-api-python-client\n",
        "# reference: https://developers.google.com/api-client-library/python/\n",
        "\n",
        "# • Another package we install is unidecode, a package that handles unicode-ascii translation.\n",
        "#  pip install unidecode\n",
        "# reference: https://pypi.python.org/pypi/Unidecode"
      ]
    },
    {
      "cell_type": "code",
      "source": [
        "pip install --upgrade google-api-python-client"
      ],
      "metadata": {
        "colab": {
          "base_uri": "https://localhost:8080/"
        },
        "id": "bgPJZcFyven8",
        "outputId": "4ec94a32-84a5-40d2-9031-6c8bb0f727ed"
      },
      "execution_count": 4,
      "outputs": [
        {
          "output_type": "stream",
          "name": "stdout",
          "text": [
            "Requirement already satisfied: google-api-python-client in /usr/local/lib/python3.7/dist-packages (1.12.8)\n",
            "Collecting google-api-python-client\n",
            "  Downloading google_api_python_client-2.35.0-py2.py3-none-any.whl (8.0 MB)\n",
            "\u001b[K     |████████████████████████████████| 8.0 MB 12.4 MB/s \n",
            "\u001b[?25hRequirement already satisfied: google-auth<3.0.0dev,>=1.16.0 in /usr/local/lib/python3.7/dist-packages (from google-api-python-client) (1.35.0)\n",
            "Requirement already satisfied: google-api-core<3.0.0dev,>=1.21.0 in /usr/local/lib/python3.7/dist-packages (from google-api-python-client) (1.26.3)\n",
            "Collecting google-auth-httplib2>=0.1.0\n",
            "  Downloading google_auth_httplib2-0.1.0-py2.py3-none-any.whl (9.3 kB)\n",
            "Requirement already satisfied: httplib2<1dev,>=0.15.0 in /usr/local/lib/python3.7/dist-packages (from google-api-python-client) (0.17.4)\n",
            "Requirement already satisfied: uritemplate<5,>=3.0.1 in /usr/local/lib/python3.7/dist-packages (from google-api-python-client) (3.0.1)\n",
            "Requirement already satisfied: packaging>=14.3 in /usr/local/lib/python3.7/dist-packages (from google-api-core<3.0.0dev,>=1.21.0->google-api-python-client) (21.3)\n",
            "Requirement already satisfied: requests<3.0.0dev,>=2.18.0 in /usr/local/lib/python3.7/dist-packages (from google-api-core<3.0.0dev,>=1.21.0->google-api-python-client) (2.23.0)\n",
            "Requirement already satisfied: six>=1.13.0 in /usr/local/lib/python3.7/dist-packages (from google-api-core<3.0.0dev,>=1.21.0->google-api-python-client) (1.15.0)\n",
            "Requirement already satisfied: setuptools>=40.3.0 in /usr/local/lib/python3.7/dist-packages (from google-api-core<3.0.0dev,>=1.21.0->google-api-python-client) (57.4.0)\n",
            "Requirement already satisfied: googleapis-common-protos<2.0dev,>=1.6.0 in /usr/local/lib/python3.7/dist-packages (from google-api-core<3.0.0dev,>=1.21.0->google-api-python-client) (1.54.0)\n",
            "Requirement already satisfied: pytz in /usr/local/lib/python3.7/dist-packages (from google-api-core<3.0.0dev,>=1.21.0->google-api-python-client) (2018.9)\n",
            "Requirement already satisfied: protobuf>=3.12.0 in /usr/local/lib/python3.7/dist-packages (from google-api-core<3.0.0dev,>=1.21.0->google-api-python-client) (3.17.3)\n",
            "Requirement already satisfied: rsa<5,>=3.1.4 in /usr/local/lib/python3.7/dist-packages (from google-auth<3.0.0dev,>=1.16.0->google-api-python-client) (4.8)\n",
            "Requirement already satisfied: pyasn1-modules>=0.2.1 in /usr/local/lib/python3.7/dist-packages (from google-auth<3.0.0dev,>=1.16.0->google-api-python-client) (0.2.8)\n",
            "Requirement already satisfied: cachetools<5.0,>=2.0.0 in /usr/local/lib/python3.7/dist-packages (from google-auth<3.0.0dev,>=1.16.0->google-api-python-client) (4.2.4)\n",
            "Requirement already satisfied: pyparsing!=3.0.5,>=2.0.2 in /usr/local/lib/python3.7/dist-packages (from packaging>=14.3->google-api-core<3.0.0dev,>=1.21.0->google-api-python-client) (3.0.6)\n",
            "Requirement already satisfied: pyasn1<0.5.0,>=0.4.6 in /usr/local/lib/python3.7/dist-packages (from pyasn1-modules>=0.2.1->google-auth<3.0.0dev,>=1.16.0->google-api-python-client) (0.4.8)\n",
            "Requirement already satisfied: idna<3,>=2.5 in /usr/local/lib/python3.7/dist-packages (from requests<3.0.0dev,>=2.18.0->google-api-core<3.0.0dev,>=1.21.0->google-api-python-client) (2.10)\n",
            "Requirement already satisfied: urllib3!=1.25.0,!=1.25.1,<1.26,>=1.21.1 in /usr/local/lib/python3.7/dist-packages (from requests<3.0.0dev,>=2.18.0->google-api-core<3.0.0dev,>=1.21.0->google-api-python-client) (1.24.3)\n",
            "Requirement already satisfied: chardet<4,>=3.0.2 in /usr/local/lib/python3.7/dist-packages (from requests<3.0.0dev,>=2.18.0->google-api-core<3.0.0dev,>=1.21.0->google-api-python-client) (3.0.4)\n",
            "Requirement already satisfied: certifi>=2017.4.17 in /usr/local/lib/python3.7/dist-packages (from requests<3.0.0dev,>=2.18.0->google-api-core<3.0.0dev,>=1.21.0->google-api-python-client) (2021.10.8)\n",
            "Installing collected packages: google-auth-httplib2, google-api-python-client\n",
            "  Attempting uninstall: google-auth-httplib2\n",
            "    Found existing installation: google-auth-httplib2 0.0.4\n",
            "    Uninstalling google-auth-httplib2-0.0.4:\n",
            "      Successfully uninstalled google-auth-httplib2-0.0.4\n",
            "  Attempting uninstall: google-api-python-client\n",
            "    Found existing installation: google-api-python-client 1.12.8\n",
            "    Uninstalling google-api-python-client-1.12.8:\n",
            "      Successfully uninstalled google-api-python-client-1.12.8\n",
            "\u001b[31mERROR: pip's dependency resolver does not currently take into account all the packages that are installed. This behaviour is the source of the following dependency conflicts.\n",
            "earthengine-api 0.1.293 requires google-api-python-client<2,>=1.12.1, but you have google-api-python-client 2.35.0 which is incompatible.\u001b[0m\n",
            "Successfully installed google-api-python-client-2.35.0 google-auth-httplib2-0.1.0\n"
          ]
        }
      ]
    },
    {
      "cell_type": "code",
      "source": [
        "pip install unidecode"
      ],
      "metadata": {
        "colab": {
          "base_uri": "https://localhost:8080/"
        },
        "id": "fEK8bXuKv3sj",
        "outputId": "9c58d4e6-8f75-4f64-a15c-5617a981f8f9"
      },
      "execution_count": 5,
      "outputs": [
        {
          "output_type": "stream",
          "name": "stdout",
          "text": [
            "Collecting unidecode\n",
            "  Downloading Unidecode-1.3.2-py3-none-any.whl (235 kB)\n",
            "\u001b[?25l\r\u001b[K     |█▍                              | 10 kB 30.9 MB/s eta 0:00:01\r\u001b[K     |██▉                             | 20 kB 38.0 MB/s eta 0:00:01\r\u001b[K     |████▏                           | 30 kB 26.6 MB/s eta 0:00:01\r\u001b[K     |█████▋                          | 40 kB 16.5 MB/s eta 0:00:01\r\u001b[K     |███████                         | 51 kB 18.1 MB/s eta 0:00:01\r\u001b[K     |████████▍                       | 61 kB 15.8 MB/s eta 0:00:01\r\u001b[K     |█████████▊                      | 71 kB 14.0 MB/s eta 0:00:01\r\u001b[K     |███████████▏                    | 81 kB 15.0 MB/s eta 0:00:01\r\u001b[K     |████████████▌                   | 92 kB 13.8 MB/s eta 0:00:01\r\u001b[K     |██████████████                  | 102 kB 15.0 MB/s eta 0:00:01\r\u001b[K     |███████████████▎                | 112 kB 15.0 MB/s eta 0:00:01\r\u001b[K     |████████████████▊               | 122 kB 15.0 MB/s eta 0:00:01\r\u001b[K     |██████████████████              | 133 kB 15.0 MB/s eta 0:00:01\r\u001b[K     |███████████████████▌            | 143 kB 15.0 MB/s eta 0:00:01\r\u001b[K     |████████████████████▉           | 153 kB 15.0 MB/s eta 0:00:01\r\u001b[K     |██████████████████████▎         | 163 kB 15.0 MB/s eta 0:00:01\r\u001b[K     |███████████████████████▋        | 174 kB 15.0 MB/s eta 0:00:01\r\u001b[K     |█████████████████████████       | 184 kB 15.0 MB/s eta 0:00:01\r\u001b[K     |██████████████████████████▍     | 194 kB 15.0 MB/s eta 0:00:01\r\u001b[K     |███████████████████████████▉    | 204 kB 15.0 MB/s eta 0:00:01\r\u001b[K     |█████████████████████████████▏  | 215 kB 15.0 MB/s eta 0:00:01\r\u001b[K     |██████████████████████████████▋ | 225 kB 15.0 MB/s eta 0:00:01\r\u001b[K     |████████████████████████████████| 235 kB 15.0 MB/s eta 0:00:01\r\u001b[K     |████████████████████████████████| 235 kB 15.0 MB/s \n",
            "\u001b[?25hInstalling collected packages: unidecode\n",
            "Successfully installed unidecode-1.3.2\n"
          ]
        }
      ]
    },
    {
      "cell_type": "code",
      "source": [
        "# create a project in the Google Developers Console\n",
        "# https://console.developers.google.com/apis/library\n",
        "\n",
        "# Enable ‘YouTube Data API v3’\n",
        "# create credentials for this API use\n",
        "# Click the ‘Create Credentials’ button\n",
        "# You have now the API key for your application"
      ],
      "metadata": {
        "id": "-XTJM3eov7Qr"
      },
      "execution_count": null,
      "outputs": []
    },
    {
      "cell_type": "code",
      "source": [
        "# Importing libraries and setting up credentials\n",
        "from apiclient.discovery import build\n",
        "import argparse\n",
        "import csv\n",
        "import unidecode\n",
        "\n",
        "# Put your API here:\n",
        "DEVELOPER_KEY = \"\"\n",
        "YOUTUBE_API_SERVICE_NAME = \"youtube\"\n",
        "YOUTUBE_API_VERSION = \"v3\""
      ],
      "metadata": {
        "id": "rOwZIGDjzW-r"
      },
      "execution_count": 11,
      "outputs": []
    },
    {
      "cell_type": "code",
      "source": [
        "# Youtube search function\n",
        "\n",
        "def youtube_search(query, max_results):\n",
        "    youtube = build(YOUTUBE_API_SERVICE_NAME, YOUTUBE_API_VERSION, developerKey=DEVELOPER_KEY)\n",
        "    # Call the search.list method to retrieve results matching the specified\n",
        "    # query term.\n",
        "    search_response = youtube.search().list(q=query, part=\"id,snippet\", maxResults=max_results).execute()\n",
        "    \n",
        "    videos = []\n",
        "    channels = []\n",
        "    playlists = []\n",
        "    \n",
        "    # create a CSV output for video list    \n",
        "    csvFile = open('video_result.csv','w')\n",
        "    csvWriter = csv.writer(csvFile)\n",
        "    csvWriter.writerow([\"title\",\"videoId\",\"viewCount\",\"likeCount\",\"dislikeCount\",\"commentCount\",\"favoriteCount\"])\n",
        "    \n",
        "    # Add each result to the appropriate list, and then display the lists of\n",
        "    # matching videos, channels, and playlists.\n",
        "    for search_result in search_response.get(\"items\", []):\n",
        "        if search_result[\"id\"][\"kind\"] == \"youtube#video\":\n",
        "            title = search_result[\"snippet\"][\"title\"]\n",
        "            title = unidecode.unidecode(title)\n",
        "            videoId = search_result[\"id\"][\"videoId\"]\n",
        "            video_response = youtube.videos().list(id=videoId,part=\"statistics\").execute()\n",
        "            \n",
        "            for video_result in video_response.get(\"items\",[]):\n",
        "                viewCount = video_result[\"statistics\"][\"viewCount\"]\n",
        "            \n",
        "                if 'likeCount' not in video_result[\"statistics\"]:\n",
        "                    likeCount = 0\n",
        "                else:\n",
        "                    likeCount = video_result[\"statistics\"][\"likeCount\"]\n",
        "                if 'dislikeCount' not in video_result[\"statistics\"]:\n",
        "                    dislikeCount = 0\n",
        "                else:\n",
        "                    dislikeCount = video_result[\"statistics\"][\"dislikeCount\"]\n",
        "                if 'commentCount' not in video_result[\"statistics\"]:\n",
        "                    commentCount = 0\n",
        "                else:\n",
        "                    commentCount = video_result[\"statistics\"][\"commentCount\"]\n",
        "                if 'favoriteCount' not in video_result[\"statistics\"]:\n",
        "                    favoriteCount = 0\n",
        "                else:\n",
        "                    favoriteCount = video_result[\"statistics\"][\"favoriteCount\"]\n",
        "                    \n",
        "            csvWriter.writerow([title,videoId,viewCount,likeCount,dislikeCount,commentCount,favoriteCount])\n",
        "\n",
        "    csvFile.close()"
      ],
      "metadata": {
        "id": "gShUM42azdHN"
      },
      "execution_count": 7,
      "outputs": []
    },
    {
      "cell_type": "code",
      "source": [
        "# Main routine\n",
        "if __name__ == \"__main__\":\n",
        "    youtube_search('Look Up',22)"
      ],
      "metadata": {
        "id": "7Gv5R5Vtz0qf"
      },
      "execution_count": 10,
      "outputs": []
    }
  ]
}